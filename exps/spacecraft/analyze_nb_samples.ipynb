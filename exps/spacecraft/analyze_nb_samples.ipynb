{
 "cells": [
  {
   "cell_type": "markdown",
   "metadata": {},
   "source": [
    "# Find the right M for (robUP!) for the spacecraft"
   ]
  },
  {
   "cell_type": "code",
   "execution_count": 1,
   "metadata": {},
   "outputs": [],
   "source": [
    "%load_ext autoreload\n",
    "%autoreload 2\n",
    "\n",
    "import sys, os\n",
    "sys.path.append('../..')\n",
    "\n",
    "import numpy as np\n",
    "import matplotlib.pyplot as plt\n",
    "from matplotlib import rc\n",
    "from scipy.spatial import ConvexHull\n",
    "import time\n",
    "\n",
    "from models.spacecraft import Model, SpacecraftProblem\n",
    "from models.spacecraft import SpacecraftSimulator"
   ]
  },
  {
   "cell_type": "markdown",
   "metadata": {},
   "source": [
    "### Define simulator"
   ]
  },
  {
   "cell_type": "code",
   "execution_count": 2,
   "metadata": {},
   "outputs": [
    {
     "data": {
      "text/plain": [
       "<models.spacecraft.SpacecraftSimulator at 0x7f4a80d22208>"
      ]
     },
     "execution_count": 2,
     "metadata": {},
     "output_type": "execute_result"
    }
   ],
   "source": [
    "simulator = SpacecraftSimulator()\n",
    "simulator"
   ]
  },
  {
   "cell_type": "markdown",
   "metadata": {},
   "source": [
    "### Load model"
   ]
  },
  {
   "cell_type": "code",
   "execution_count": 3,
   "metadata": {},
   "outputs": [
    {
     "name": "stdout",
     "output_type": "stream",
     "text": [
      "[spacecraft::__init__] Initializing spacecraft Model \n",
      "                       (linear, uncertain mass and inertia).\n",
      "[spacecraft::reset] resetting mass, J, and deltas.\n"
     ]
    },
    {
     "data": {
      "text/plain": [
       "<models.spacecraft.Model at 0x7f4a4c75f5f8>"
      ]
     },
     "execution_count": 3,
     "metadata": {},
     "output_type": "execute_result"
    }
   ],
   "source": [
    "model = Model()\n",
    "model"
   ]
  },
  {
   "cell_type": "markdown",
   "metadata": {},
   "source": [
    "### Define problem "
   ]
  },
  {
   "cell_type": "code",
   "execution_count": 4,
   "metadata": {},
   "outputs": [
    {
     "name": "stdout",
     "output_type": "stream",
     "text": [
      "Initializing problem with 2 spherical obstacles.\n",
      "[SpacecraftProblem::__init__] 2 sphere obs, and 0 poly obs.\n"
     ]
    }
   ],
   "source": [
    "# problem definition\n",
    "s13     = np.sqrt(1./3.)\n",
    "x_init  = np.array([1,0.2,0.0,  1e-4,1e-4,1e-4,  -0.5,0.5,-0.5,0.5,  0,0,0])\n",
    "x_goal  = np.array([1.2,4.8,2.0,  1e-4,1e-4,1e-4,  s13,0.,s13,s13,     0,0,0])\n",
    "N       = 21\n",
    "\n",
    "simulator.state = x_init\n",
    "simulator.x0    = x_init\n",
    "\n",
    "problem = SpacecraftProblem(x0=x_init, xgoal=x_goal, N=N)"
   ]
  },
  {
   "cell_type": "markdown",
   "metadata": {},
   "source": [
    "# Batched experiments"
   ]
  },
  {
   "cell_type": "code",
   "execution_count": 5,
   "metadata": {},
   "outputs": [],
   "source": [
    "x_dim, u_dim = simulator.n_x, simulator.n_u"
   ]
  },
  {
   "cell_type": "code",
   "execution_count": 6,
   "metadata": {},
   "outputs": [
    {
     "name": "stdout",
     "output_type": "stream",
     "text": [
      "(robUP) elapsed time for M = 50 : 0.08048460817337036\n",
      "(robUP) elapsed time for M = 100 : 0.16372157049179076\n",
      "(robUP) elapsed time for M = 200 : 0.30626295375823975\n"
     ]
    }
   ],
   "source": [
    "T     = 20\n",
    "B     = 500\n",
    "M_vec = [int(50), int(100), int(200)]\n",
    "\n",
    "# -----------------------------\n",
    "# Simulate true system in batch\n",
    "Xs_true, Qs_true, Us_true = np.zeros((B, T+1, x_dim)), np.zeros((B, T+1, x_dim, x_dim)), np.zeros((B, T, u_dim))\n",
    "\n",
    "Xs_true[:,0,:]  = simulator.sample_states(B)\n",
    "for i in range(B):\n",
    "    Us_true[i,:,:] = 1e-2 * simulator.sample_controls(T)\n",
    "    simulator.state = Xs_true[i,0,:].copy()\n",
    "    for t in range(T):\n",
    "        simulator.state = simulator.f_dt(simulator.state, Us_true[i,t,:])\n",
    "        Xs_true[i,t+1,:] = simulator.state.copy()\n",
    "# -----------------------------\n",
    "\n",
    "# -----------------------------\n",
    "# (robUP!)\n",
    "Xs_robUP_all = []\n",
    "for M in M_vec:\n",
    "    elapsed_time = 0\n",
    "    \n",
    "    Xs_robUP = np.zeros((B, M, T+1, x_dim))\n",
    "    for i in range(B):\n",
    "        start_time = time.time()\n",
    "        \n",
    "        # First, predict means\n",
    "        Unom       = Us_true[i,:,:].T\n",
    "        Xmean      = np.zeros((T+1,x_dim))\n",
    "        Xmean[0,:] = Xs_true[i,0,:]\n",
    "        for k in range(0,T):\n",
    "            Xmean[k+1,:] = model.predict_mean(Xmean[k,:], Unom[:,k])\n",
    "\n",
    "        # (robUP!)\n",
    "        Xs, Us = model.simulate_batch(Xmean[0,:], Xmean.T, Unom,\n",
    "                                    N_MC      = M,\n",
    "                                    B_feedback= False, \n",
    "                                    B_resample= True)\n",
    "\n",
    "        model.adv_sample_params(Xs, Us)\n",
    "\n",
    "        Xs, Us = model.simulate_batch(Xmean[0,:], Xmean.T, Unom,\n",
    "                                    N_MC      = M,\n",
    "                                    B_feedback= False, \n",
    "                                    B_resample= False)\n",
    "        \n",
    "        Xs_robUP[i,:,:,:] = np.swapaxes(Xs, 1,2)        \n",
    "            \n",
    "        elapsed_time += time.time()-start_time\n",
    "            \n",
    "    print('(robUP) elapsed time for M =',M,':',elapsed_time/B)\n",
    "    Xs_robUP_all.append(Xs_robUP)\n",
    "# -----------------------------"
   ]
  },
  {
   "cell_type": "markdown",
   "metadata": {},
   "source": [
    "### Compute Positions volume"
   ]
  },
  {
   "cell_type": "code",
   "execution_count": 7,
   "metadata": {},
   "outputs": [
    {
     "name": "stdout",
     "output_type": "stream",
     "text": [
      "Computing (robUP!) volumes\n",
      "M_i =  0\n",
      "M_i =  1\n",
      "M_i =  2\n"
     ]
    }
   ],
   "source": [
    "idx = [0,1,2]\n",
    "\n",
    "print('Computing (robUP!) volumes')\n",
    "vols_pos_robUP_ratios = []\n",
    "for m_id in range(len(M_vec)):\n",
    "    print('M_i = ', m_id)\n",
    "    vols_pos_robUP = np.zeros((B,T+1))\n",
    "    for i in range(B):\n",
    "        for t in range(1,T+1):\n",
    "            vols_pos_robUP[i,t] = ConvexHull(Xs_robUP_all[m_id][i,:,t,idx].T).volume\n",
    "    vols_pos_robUP_ratios.append( vols_pos_robUP )"
   ]
  },
  {
   "cell_type": "markdown",
   "metadata": {},
   "source": [
    "## Results: Total volume"
   ]
  },
  {
   "cell_type": "code",
   "execution_count": 8,
   "metadata": {
    "scrolled": true
   },
   "outputs": [
    {
     "name": "stderr",
     "output_type": "stream",
     "text": [
      "/home/thomas/.local/lib/python3.5/site-packages/ipykernel_launcher.py:6: RuntimeWarning: invalid value encountered in true_divide\n",
      "  \n"
     ]
    },
    {
     "data": {
      "image/png": "[encoded data removed]",
      "text/plain": [
       "<Figure size 360x216 with 1 Axes>"
      ]
     },
     "metadata": {
      "needs_background": "light"
     },
     "output_type": "display_data"
    }
   ],
   "source": [
    "# Normalize in [%]\n",
    "vols_true  = np.mean(vols_pos_robUP_ratios[-1], 0)\n",
    "vols_robUP = vols_pos_robUP_ratios\n",
    "vols_robUP = []\n",
    "for m_id in range(len(M_vec)):\n",
    "    vols_robUP.append(100*vols_pos_robUP_ratios[m_id]/vols_true)\n",
    "\n",
    "from matplotlib import rc\n",
    "from matplotlib import rcParams\n",
    "rcParams['font.family'] = 'serif'\n",
    "rcParams['font.size'] = 14\n",
    "fig, ax = plt.subplots(figsize=(5, 3))\n",
    "\n",
    "# ----------------------------\n",
    "# (robUP!)\n",
    "for M_id, M in enumerate(M_vec):\n",
    "    label_str = r'(robUP)${}_{' + str(int(M))+'}$'\n",
    "    mean_vols_robUP =        np.mean(vols_robUP[M_id], 0)\n",
    "    plt.plot(np.arange(T+1), mean_vols_robUP,         'C'+str(M_id), linewidth=2)\n",
    "    \n",
    "    if M_id==2:\n",
    "        plt.text(7, mean_vols_robUP[5]+2, label_str, color='C'+str(M_id), fontsize=26, fontweight='bold')\n",
    "    elif M_id==1:\n",
    "        plt.text(12, mean_vols_robUP[5]-11, label_str, color='C'+str(M_id), fontsize=26, fontweight='bold')\n",
    "    elif M_id==0:\n",
    "        plt.text(2, mean_vols_robUP[5]-7, label_str, color='C'+str(M_id), fontsize=26, fontweight='bold')\n",
    "# ----------------------------\n",
    "\n",
    "\n",
    "rc('text', usetex=True)\n",
    "\n",
    "ax.tick_params(\"both\", labelsize=26) \n",
    "\n",
    "labels_X = []\n",
    "for i in range(0,T+1,5):\n",
    "    labels_X.append(r'$\\mathcal{P}_{' + str(i) + '}$')\n",
    "plt.xticks(np.arange(0,T+1,5), (labels_X))\n",
    "\n",
    "plt.ylim([80,110])\n",
    "\n",
    "ax.set_ylabel(r'Vol($\\mathcal{P}_k$) [\\%]', rotation=\"vertical\",fontsize=30)#, labelpad=24)\n",
    "plt.grid(True, which='both', linestyle='--')"
   ]
  },
  {
   "cell_type": "markdown",
   "metadata": {},
   "source": [
    "## Compare number of adv. steps"
   ]
  },
  {
   "cell_type": "code",
   "execution_count": 9,
   "metadata": {},
   "outputs": [
    {
     "name": "stdout",
     "output_type": "stream",
     "text": [
      "(robUP) elapsed time for M = 100 : 0.15828202056884766\n",
      "(robUP) elapsed time for M = 100 : 0.3162124347686768\n",
      "(robUP) elapsed time for M = 100 : 0.4711662359237671\n"
     ]
    }
   ],
   "source": [
    "nadv_vec = [1,2,3]\n",
    "M        = int(100)\n",
    "\n",
    "# -----------------------------\n",
    "# (robUP!)\n",
    "Xs_robUP_all = []\n",
    "for nadv in nadv_vec:\n",
    "    elapsed_time = 0\n",
    "    \n",
    "    Xs_robUP = np.zeros((B, M, T+1, x_dim))\n",
    "    for i in range(B):\n",
    "        start_time = time.time()\n",
    "        \n",
    "        # First, predict means\n",
    "        Unom       = Us_true[i,:,:].T\n",
    "        Xmean      = np.zeros((T+1,x_dim))\n",
    "        Xmean[0,:] = Xs_true[i,0,:]\n",
    "        for k in range(0,T):\n",
    "            Xmean[k+1,:] = model.predict_mean(Xmean[k,:], Unom[:,k])\n",
    "\n",
    "        # (robUP!)\n",
    "        for nadv_i in range(nadv):\n",
    "            if nadv_i == 0:\n",
    "                Xs, Us = model.simulate_batch(Xmean[0,:], Xmean.T, Unom,\n",
    "                                            N_MC      = M,\n",
    "                                            B_feedback= False, \n",
    "                                            B_resample= True)\n",
    "            else:\n",
    "                Xs, Us = model.simulate_batch(Xmean[0,:], Xmean.T, Unom,\n",
    "                                            N_MC      = M,\n",
    "                                            B_feedback= False, \n",
    "                                            B_resample= False)\n",
    "            model.adv_sample_params(Xs, Us)\n",
    "            \n",
    "        Xs, Us = model.simulate_batch(Xmean[0,:], Xmean.T, Unom,\n",
    "                                    N_MC      = M,\n",
    "                                    B_feedback= False, \n",
    "                                    B_resample= False)\n",
    "        \n",
    "        Xs_robUP[i,:,:,:] = np.swapaxes(Xs, 1,2)        \n",
    "            \n",
    "        elapsed_time += time.time()-start_time\n",
    "            \n",
    "    print('(robUP) elapsed time for M =',M,':',elapsed_time/B)\n",
    "    Xs_robUP_all.append(Xs_robUP)\n",
    "# -----------------------------"
   ]
  },
  {
   "cell_type": "code",
   "execution_count": 10,
   "metadata": {},
   "outputs": [
    {
     "name": "stdout",
     "output_type": "stream",
     "text": [
      "Computing (robUP!) volumes\n",
      "nadv_i =  0\n",
      "nadv_i =  1\n",
      "nadv_i =  2\n"
     ]
    }
   ],
   "source": [
    "idx = [0,1,2]\n",
    "\n",
    "print('Computing (robUP!) volumes')\n",
    "vols_pos_robUP_ratios = []\n",
    "for nadv_i in range(len(nadv_vec)):\n",
    "    print('nadv_i = ', nadv_i)\n",
    "    vols_pos_robUP = np.zeros((B,T+1))\n",
    "    for i in range(B):\n",
    "        for t in range(1,T+1):\n",
    "            vols_pos_robUP[i,t] = ConvexHull(Xs_robUP_all[nadv_i][i,:,t,idx].T).volume\n",
    "    vols_pos_robUP_ratios.append( vols_pos_robUP )"
   ]
  },
  {
   "cell_type": "code",
   "execution_count": 11,
   "metadata": {},
   "outputs": [
    {
     "name": "stderr",
     "output_type": "stream",
     "text": [
      "/home/thomas/.local/lib/python3.5/site-packages/ipykernel_launcher.py:7: RuntimeWarning: invalid value encountered in true_divide\n",
      "  import sys\n"
     ]
    },
    {
     "data": {
      "image/png": "[encoded data removed]",
      "text/plain": [
       "<Figure size 360x216 with 1 Axes>"
      ]
     },
     "metadata": {
      "needs_background": "light"
     },
     "output_type": "display_data"
    }
   ],
   "source": [
    "# Normalize in [%]\n",
    "# vol_true = 100.\n",
    "vols_true  = np.mean(vols_pos_robUP_ratios[-1], 0)\n",
    "vols_robUP = vols_pos_robUP_ratios\n",
    "vols_robUP = []\n",
    "for nadv_i in range(len(nadv_vec)):\n",
    "    vols_robUP.append(100*vols_pos_robUP_ratios[nadv_i]/vols_true)\n",
    "\n",
    "from matplotlib import rc\n",
    "from matplotlib import rcParams\n",
    "rcParams['font.family'] = 'serif'\n",
    "rcParams['font.size'] = 14\n",
    "fig, ax = plt.subplots(figsize=(5, 3))\n",
    "\n",
    "# ----------------------------\n",
    "# (robUP!)\n",
    "for nadv_i, nadv in enumerate(nadv_vec):\n",
    "    label_str = r'(robUP)${}^{n=' + str(int(nadv))+'}_{100}$'\n",
    "    mean_vols_robUP =        np.mean(vols_robUP[nadv_i], 0)\n",
    "    plt.plot(np.arange(T+1), mean_vols_robUP,         'C'+str(nadv_i), linewidth=2)#, label=label_str)\n",
    "    \n",
    "    if nadv_i==2:\n",
    "        plt.text(1, mean_vols_robUP[5]+3, label_str, color='C'+str(nadv_i), fontsize=26, fontweight='bold')\n",
    "    elif nadv_i==1:\n",
    "        plt.text(1, mean_vols_robUP[5]-6, label_str, color='C'+str(nadv_i), fontsize=26, fontweight='bold')\n",
    "    elif nadv_i==0:\n",
    "        plt.text(12, mean_vols_robUP[5]+3, label_str, color='C'+str(nadv_i), fontsize=26, fontweight='bold')\n",
    "# ----------------------------\n",
    "\n",
    "\n",
    "rc('text', usetex=True)\n",
    "\n",
    "ax.tick_params(\"both\", labelsize=26) \n",
    "\n",
    "labels_X = []\n",
    "for i in range(0,T+1,5):\n",
    "    labels_X.append(r'$\\mathcal{P}_{' + str(i) + '}$')\n",
    "plt.xticks(np.arange(0,T+1,5), (labels_X))\n",
    "\n",
    "plt.ylim([90,110])\n",
    "\n",
    "ax.set_ylabel(r'Vol($\\mathcal{P}_k$) [\\%]', rotation=\"vertical\",fontsize=30)#, labelpad=24)\n",
    "plt.grid(True, which='both', linestyle='--')"
   ]
  },
  {
   "cell_type": "code",
   "execution_count": null,
   "metadata": {},
   "outputs": [],
   "source": []
  }
 ],
 "metadata": {
  "kernelspec": {
   "display_name": "Python 3",
   "language": "python",
   "name": "python3"
  },
  "language_info": {
   "codemirror_mode": {
    "name": "ipython",
    "version": 3
   },
   "file_extension": ".py",
   "mimetype": "text/x-python",
   "name": "python",
   "nbconvert_exporter": "python",
   "pygments_lexer": "ipython3",
   "version": "3.5.2"
  }
 },
 "nbformat": 4,
 "nbformat_minor": 4
}
