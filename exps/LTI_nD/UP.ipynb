{
 "cells": [
  {
   "cell_type": "markdown",
   "metadata": {},
   "source": [
    "# Test Uncertainty Propagation (UP) techniques on Linear Freeflyer "
   ]
  },
  {
   "cell_type": "code",
   "execution_count": 1,
   "metadata": {},
   "outputs": [],
   "source": [
    "%load_ext autoreload\n",
    "%autoreload 2\n",
    "import numpy as np\n",
    "import matplotlib.pyplot as plt\n",
    "from matplotlib.ticker import NullFormatter\n",
    "import time\n",
    "\n",
    "import sys, os\n",
    "sys.path.append('../..')\n",
    "from models.LTI_nD import Model\n",
    "import utils\n",
    "\n",
    "from scipy.spatial import ConvexHull"
   ]
  },
  {
   "cell_type": "markdown",
   "metadata": {},
   "source": [
    "### Load Model + True Dynamics + Problem + Nominal Trajectory"
   ]
  },
  {
   "cell_type": "code",
   "execution_count": 2,
   "metadata": {
    "scrolled": true
   },
   "outputs": [
    {
     "name": "stdout",
     "output_type": "stream",
     "text": [
      "[LTI_nD::__init__] Initializing model.\n",
      "[LTI_nD::reset] resetting dynamics.\n",
      "[LTI_nD::reset] resetting dynamics.\n"
     ]
    }
   ],
   "source": [
    "model = Model()\n",
    "model.reset()"
   ]
  },
  {
   "cell_type": "markdown",
   "metadata": {},
   "source": [
    "## Propagate Uncertainty"
   ]
  },
  {
   "cell_type": "code",
   "execution_count": 3,
   "metadata": {},
   "outputs": [],
   "source": [
    "N_MC = 256"
   ]
  },
  {
   "cell_type": "code",
   "execution_count": 4,
   "metadata": {},
   "outputs": [],
   "source": [
    "# Uniform sampling (randUP)\n",
    "Xs_uniform = model.simulate_batch(N_MC = N_MC)\n",
    "\n",
    "# Adversarial sampling (robUP!)\n",
    "new_x0s_MC, new_controls_MC     = model.adv_sample_params(Xs_uniform)\n",
    "model.x0s_MC, model.controls_MC = new_x0s_MC, new_controls_MC\n",
    "Xs_adv                          = model.simulate_batch(N_MC = N_MC, B_resample=False)"
   ]
  },
  {
   "cell_type": "markdown",
   "metadata": {},
   "source": [
    "### RSS METHOD"
   ]
  },
  {
   "cell_type": "code",
   "execution_count": 5,
   "metadata": {},
   "outputs": [],
   "source": [
    "N_per_dim = 4"
   ]
  },
  {
   "cell_type": "code",
   "execution_count": 6,
   "metadata": {},
   "outputs": [],
   "source": [
    "# N_per_dim**4"
   ]
  },
  {
   "cell_type": "code",
   "execution_count": 7,
   "metadata": {},
   "outputs": [],
   "source": [
    "# compute edges of RSS method\n",
    "x0s                            = model.create_deltapacking_x0s(N_per_dim)\n",
    "\n",
    "controls                       = np.linspace(model.u_min, model.u_max, num=2, endpoint=True)\n",
    "us_00, us_11, us_22, us_33     = np.meshgrid(controls[:,0],controls[:,1],controls[:,2],controls[:,3])\n",
    "controls                       = np.array([us_00.ravel(), us_11.ravel(), us_22.ravel(), us_33.ravel()]).T\n",
    "\n",
    "Xs_edges_RSS_x0s = (model.A @ x0s.T).T\n",
    "Xs_edges_RSS_us  = (model.B @ controls.T).T\n",
    "Xs_edges_RSS     = np.zeros((Xs_edges_RSS_x0s.shape[0],Xs_edges_RSS_us.shape[0],model.n_x))\n",
    "# minkowski sum\n",
    "for i in range(Xs_edges_RSS_x0s.shape[0]):\n",
    "    for j in range(Xs_edges_RSS_us.shape[0]):\n",
    "        Xs_edges_RSS[i,j,:] = Xs_edges_RSS_x0s[i,:] + Xs_edges_RSS_us[j,:]"
   ]
  },
  {
   "cell_type": "code",
   "execution_count": 8,
   "metadata": {},
   "outputs": [
    {
     "name": "stdout",
     "output_type": "stream",
     "text": [
      "4  per dim: overlap!\n"
     ]
    }
   ],
   "source": [
    "vol_RSS = model.compute_volume_RSS_method(N_per_dim)"
   ]
  },
  {
   "cell_type": "markdown",
   "metadata": {},
   "source": [
    "## Compare visually"
   ]
  },
  {
   "cell_type": "code",
   "execution_count": 9,
   "metadata": {},
   "outputs": [
    {
     "data": {
      "image/png": "[encoded data removed]",
      "text/plain": [
       "<Figure size 432x288 with 1 Axes>"
      ]
     },
     "metadata": {
      "needs_background": "light"
     },
     "output_type": "display_data"
    }
   ],
   "source": [
    "from utils.viz import plot_pts_2d, plot_trajs_2d\n",
    "idx = [2,3]\n",
    "\n",
    "plot_pts_2d(Xs_uniform, idx=idx, markerwidth=0.6, color='b')\n",
    "plot_pts_2d(Xs_adv, idx=idx, markerwidth=0.6, color='g')\n",
    "# plot_pts_2d(Xs_RSS, idx=idx, color='C1')\n",
    "\n",
    "plot_pts_2d(Xs_edges_RSS_x0s, idx=idx, color='C1')\n",
    "for i in range(Xs_edges_RSS.shape[0]):\n",
    "    hull = ConvexHull(Xs_edges_RSS[i,:,idx].T)\n",
    "    for simplex in hull.simplices:\n",
    "        plt.plot(Xs_edges_RSS[i,simplex, idx[0]], Xs_edges_RSS[i,simplex, idx[1]], color='C1')\n",
    "\n",
    "hull_unif = ConvexHull(Xs_uniform[:,idx])\n",
    "for simplex in hull_unif.simplices:\n",
    "    plt.plot(Xs_uniform[simplex, idx[0]], Xs_uniform[simplex, idx[1]], 'b-')\n",
    "hull_adv = ConvexHull(Xs_adv[:,idx])\n",
    "for simplex in hull_adv.simplices:\n",
    "    plt.plot(Xs_adv[simplex, idx[0]], Xs_adv[simplex, idx[1]], 'g-')"
   ]
  },
  {
   "cell_type": "code",
   "execution_count": 10,
   "metadata": {},
   "outputs": [
    {
     "name": "stdout",
     "output_type": "stream",
     "text": [
      "Vol unif= 5.986150903072834\n",
      "Vol adv = 9.0\n",
      "Vol RSS = 4.840000000000001\n"
     ]
    }
   ],
   "source": [
    "# 2d (debug)\n",
    "print('Vol unif=',hull_unif.volume)\n",
    "print('Vol adv =',hull_adv.volume)\n",
    "print('Vol RSS =',np.sqrt(vol_RSS))"
   ]
  },
  {
   "cell_type": "code",
   "execution_count": 11,
   "metadata": {},
   "outputs": [
    {
     "name": "stdout",
     "output_type": "stream",
     "text": [
      "4  per dim: overlap!\n",
      "Vol RSS = 23.42560000000001\n",
      "Vol unif= 22.11470422712535\n",
      "Vol adv = 78.3790913750501\n"
     ]
    }
   ],
   "source": [
    "# nD\n",
    "print('Vol RSS =',model.compute_volume_RSS_method(N_per_dim))\n",
    "print('Vol unif=',ConvexHull(Xs_uniform).volume)\n",
    "print('Vol adv =',ConvexHull(Xs_adv).volume)"
   ]
  },
  {
   "cell_type": "markdown",
   "metadata": {},
   "source": [
    "## run it for multiple numbers of samples"
   ]
  },
  {
   "cell_type": "code",
   "execution_count": 12,
   "metadata": {
    "scrolled": true
   },
   "outputs": [
    {
     "data": {
      "text/plain": [
       "4096"
      ]
     },
     "execution_count": 12,
     "metadata": {},
     "output_type": "execute_result"
    }
   ],
   "source": [
    "8**4"
   ]
  },
  {
   "cell_type": "code",
   "execution_count": 13,
   "metadata": {},
   "outputs": [],
   "source": [
    "if model.n_x == 3:\n",
    "    PER_DIM_MAX = 16\n",
    "elif model.n_x == 4:\n",
    "    PER_DIM_MAX = 8\n",
    "else:\n",
    "    raise NotImplementedError(\"Untested dimension.\")\n",
    "vec_N_MC            = np.linspace(10, PER_DIM_MAX**model.n_x, num=500, endpoint=True)\n",
    "# vec_N_MC            = np.linspace(10, PER_DIM_MAX**model.n_x, num=4, endpoint=True)\n",
    "vec_samples_per_dim = np.linspace(2, PER_DIM_MAX, num=PER_DIM_MAX-2, endpoint=True)"
   ]
  },
  {
   "cell_type": "code",
   "execution_count": 14,
   "metadata": {},
   "outputs": [],
   "source": [
    "B                = 10 # batch size\n",
    "mat_volumes_unif = np.zeros((len(vec_N_MC), B))\n",
    "mat_volumes_adv  = np.zeros((len(vec_N_MC), B))\n",
    "vec_volumes_RSS  = np.zeros(len(vec_samples_per_dim))"
   ]
  },
  {
   "cell_type": "code",
   "execution_count": 15,
   "metadata": {},
   "outputs": [],
   "source": [
    "# Run (randUP) and (robUP!) over batches\n",
    "for idx, N_MC in enumerate(vec_N_MC):\n",
    "    N_MC = int(N_MC)\n",
    "    for jdx in range(B):\n",
    "        Xs_uniform = model.simulate_batch(N_MC = N_MC)\n",
    "\n",
    "        new_x0s_MC, new_controls_MC     = model.adv_sample_params(Xs_uniform)\n",
    "        model.x0s_MC, model.controls_MC = new_x0s_MC, new_controls_MC\n",
    "\n",
    "        Xs_adv                          = model.simulate_batch(N_MC = N_MC, B_resample=False)\n",
    "\n",
    "        mat_volumes_unif[idx,jdx] = ConvexHull(Xs_uniform).volume\n",
    "        mat_volumes_adv[idx,jdx]  = ConvexHull(Xs_adv).volume"
   ]
  },
  {
   "cell_type": "code",
   "execution_count": 16,
   "metadata": {},
   "outputs": [
    {
     "data": {
      "text/plain": [
       "499"
      ]
     },
     "execution_count": 16,
     "metadata": {},
     "output_type": "execute_result"
    }
   ],
   "source": [
    "idx"
   ]
  },
  {
   "cell_type": "code",
   "execution_count": 17,
   "metadata": {},
   "outputs": [
    {
     "name": "stdout",
     "output_type": "stream",
     "text": [
      "2  per dim: overlap!\n",
      "3  per dim: overlap!\n",
      "4  per dim: overlap!\n",
      "5  per dim: overlap!\n",
      "6  per dim: overlap!\n",
      "8  per dim: overlap!\n"
     ]
    }
   ],
   "source": [
    "# Compute RSS volume\n",
    "for idx, N_per_dim in enumerate(vec_samples_per_dim):\n",
    "    vec_volumes_RSS[idx] = model.compute_volume_RSS_method(N_per_dim)"
   ]
  },
  {
   "cell_type": "code",
   "execution_count": 18,
   "metadata": {
    "scrolled": true
   },
   "outputs": [
    {
     "data": {
      "text/plain": [
       "81.0"
      ]
     },
     "execution_count": 18,
     "metadata": {},
     "output_type": "execute_result"
    }
   ],
   "source": [
    "# Compute True Volume\n",
    "vol_true = np.prod(model.x0_max+model.u_max-model.x0_min-model.u_min)\n",
    "vol_true"
   ]
  },
  {
   "cell_type": "code",
   "execution_count": 19,
   "metadata": {},
   "outputs": [],
   "source": [
    "mat_volumes_unif_orig = mat_volumes_unif.copy()\n",
    "mat_volumes_adv_orig  = mat_volumes_adv.copy()\n",
    "vec_volumes_RSS_orig  = vec_volumes_RSS.copy()\n",
    "vol_true_orig         = vol_true"
   ]
  },
  {
   "cell_type": "markdown",
   "metadata": {},
   "source": [
    "## plot results"
   ]
  },
  {
   "cell_type": "code",
   "execution_count": 20,
   "metadata": {},
   "outputs": [
    {
     "data": {
      "image/png": "[encoded data removed]",
      "text/plain": [
       "<Figure size 360x216 with 1 Axes>"
      ]
     },
     "metadata": {
      "needs_background": "light"
     },
     "output_type": "display_data"
    }
   ],
   "source": [
    "# Normalize in [%]\n",
    "mat_volumes_unif = mat_volumes_unif_orig/(vol_true_orig/100.)\n",
    "mat_volumes_adv = mat_volumes_adv_orig/(vol_true_orig/100.)\n",
    "vec_volumes_RSS = vec_volumes_RSS_orig/(vol_true_orig/100.)\n",
    "vol_true = 100.\n",
    "\n",
    "from matplotlib import rc\n",
    "from matplotlib import rcParams\n",
    "rcParams['font.family'] = 'serif'\n",
    "rcParams['font.size'] = 14\n",
    "fig, ax = plt.subplots(figsize=(5, 3))\n",
    "\n",
    "truth_str = r'True, $\\bar{u}=' + str(model.u_mag) + '$'\n",
    "plt.axhline(y=vol_true, color='r', label=truth_str)\n",
    "\n",
    "title_str = r'$n=' + str(model.n_x) + '$' + r' , $\\bar{u}=' + str(int(model.u_mag)) + '$'\n",
    "plt.title(title_str, fontsize=24)\n",
    "\n",
    "# 3sigmas corresponds to approx. 99.7% confidence interval\n",
    "mean_vols_unif, vars_vols_unif = np.mean(mat_volumes_unif, 1), np.sqrt( np.var(mat_volumes_unif, axis=1) )\n",
    "plt.plot(vec_N_MC, mean_vols_unif,         'g', label='randUP', linewidth=2)\n",
    "plt.fill_between(vec_N_MC, mean_vols_unif-3.*vars_vols_unif, mean_vols_unif+3.*vars_vols_unif, \n",
    "                                     color='g', alpha=0.2)\n",
    "\n",
    "mean_vols_adv, vars_vols_adv = np.mean(mat_volumes_adv, 1), np.sqrt( np.var(mat_volumes_adv, axis=1) )\n",
    "plt.plot(vec_N_MC, mean_vols_adv,         'b', label='robUP!')\n",
    "plt.fill_between(vec_N_MC, mean_vols_adv-3.*vars_vols_adv, mean_vols_adv+3.*vars_vols_adv, \n",
    "                                     color='b', alpha=0.2)\n",
    "\n",
    "plt.plot(vec_samples_per_dim**model.n_x, vec_volumes_RSS, 'C1', label='Grid+Union', linewidth=3)\n",
    "\n",
    "\n",
    "rc('text', usetex=True)\n",
    "# plt.legend(fontsize=16, loc='lower right')\n",
    "\n",
    "ax.tick_params(\"both\", labelsize=26) \n",
    "# ax.tick_params(\"y\",       labelsize=26) \n",
    "plt.xticks([0,1000,2000,3000,4000], ('0', '1k', '2k', '3k', '4k'))\n",
    "plt.yticks([25,50,75,100])\n",
    "\n",
    "plt.ylim([20,105])\n",
    "\n",
    "ax.set_xlabel('N. Samples',                                    fontsize=26)\n",
    "\n",
    "if model.u_mag==0.5 and model.n_x==3:\n",
    "    ax.set_ylabel(r'Vol($\\mathcal{X}_1$) [\\%]', rotation=\"vertical\",fontsize=30, labelpad=24)\n",
    "else:\n",
    "    ax.yaxis.set_major_formatter(NullFormatter())\n",
    "\n",
    "plt.grid(True, which='both', linestyle='--')"
   ]
  },
  {
   "cell_type": "code",
   "execution_count": 21,
   "metadata": {},
   "outputs": [
    {
     "data": {
      "text/plain": [
       "4096.0"
      ]
     },
     "execution_count": 21,
     "metadata": {},
     "output_type": "execute_result"
    }
   ],
   "source": [
    "vec_N_MC[-1]"
   ]
  },
  {
   "cell_type": "code",
   "execution_count": null,
   "metadata": {},
   "outputs": [],
   "source": []
  }
 ],
 "metadata": {
  "kernelspec": {
   "display_name": "Python 3",
   "language": "python",
   "name": "python3"
  },
  "language_info": {
   "codemirror_mode": {
    "name": "ipython",
    "version": 3
   },
   "file_extension": ".py",
   "mimetype": "text/x-python",
   "name": "python",
   "nbconvert_exporter": "python",
   "pygments_lexer": "ipython3",
   "version": "3.5.2"
  }
 },
 "nbformat": 4,
 "nbformat_minor": 2
}
