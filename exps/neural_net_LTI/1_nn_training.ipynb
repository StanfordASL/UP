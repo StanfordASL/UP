{
 "cells": [
  {
   "cell_type": "markdown",
   "metadata": {},
   "source": [
    "# Train simple feedforward neural network"
   ]
  },
  {
   "cell_type": "code",
   "execution_count": 1,
   "metadata": {},
   "outputs": [],
   "source": [
    "%load_ext autoreload\n",
    "%autoreload 2\n",
    "\n",
    "import sys, os\n",
    "sys.path.append('../..')\n",
    "\n",
    "import numpy as np\n",
    "import matplotlib.pyplot as plt\n",
    "from matplotlib import rc\n",
    "import time\n",
    "\n",
    "from models.LTI_sim import LTISimulator\n",
    "from models.feedforward import FeedForward, FeedForwardDynamics"
   ]
  },
  {
   "cell_type": "code",
   "execution_count": 2,
   "metadata": {},
   "outputs": [
    {
     "data": {
      "text/plain": [
       "<models.LTI_sim.LTISimulator at 0x7fba18693b38>"
      ]
     },
     "execution_count": 2,
     "metadata": {},
     "output_type": "execute_result"
    }
   ],
   "source": [
    "simulator = LTISimulator()\n",
    "x_dim, u_dim = simulator.n_x, simulator.n_u\n",
    "simulator"
   ]
  },
  {
   "cell_type": "markdown",
   "metadata": {},
   "source": [
    "### New neural net training"
   ]
  },
  {
   "cell_type": "code",
   "execution_count": 3,
   "metadata": {},
   "outputs": [],
   "source": [
    "config = {\n",
    "    'x_dim': x_dim,\n",
    "    'u_dim': u_dim,\n",
    "    'learning_rate': 2e-2,\n",
    "    'data_horizon': 40,\n",
    "    'learning_rate_decay': True,\n",
    "    'lr_decay_rate': 1e-3,\n",
    "    'hidden_dim': 128,\n",
    "    'l2_reg': 1e-6,\n",
    "}\n",
    "\n",
    "model    = FeedForward(config)\n",
    "dynmodel = FeedForwardDynamics(model, summary_name='hid128')"
   ]
  },
  {
   "cell_type": "code",
   "execution_count": 4,
   "metadata": {
    "scrolled": true
   },
   "outputs": [
    {
     "name": "stderr",
     "output_type": "stream",
     "text": [
      "  0%|          | 0/1000 [00:00<?, ?it/s]/usr/local/lib/python3.6/dist-packages/torch/optim/lr_scheduler.py:351: UserWarning: To get the last learning rate computed by the scheduler, please use `get_last_lr()`.\n",
      "  \"please use `get_last_lr()`.\", UserWarning)\n",
      "100%|██████████| 1000/1000 [00:03<00:00, 308.53it/s, tr_loss=1.8710094e-06, val_loss=[]]                                        \n"
     ]
    }
   ],
   "source": [
    "batch_size = 20\n",
    "dynmodel.train(simulator, batch_size, 1000, verbose=True)"
   ]
  },
  {
   "cell_type": "code",
   "execution_count": 5,
   "metadata": {},
   "outputs": [
    {
     "name": "stderr",
     "output_type": "stream",
     "text": [
      "100%|██████████| 9000/9000 [00:32<00:00, 276.41it/s, tr_loss=1.1660961e-07, val_loss=[]]                                          \n"
     ]
    }
   ],
   "source": [
    "dynmodel.train(simulator, batch_size, 9000, verbose=True)"
   ]
  },
  {
   "cell_type": "code",
   "execution_count": 6,
   "metadata": {},
   "outputs": [],
   "source": [
    "MODEL_PATH = \"trained_models/feedforward_hid128_2\""
   ]
  },
  {
   "cell_type": "code",
   "execution_count": 7,
   "metadata": {},
   "outputs": [],
   "source": [
    "dynmodel.save(MODEL_PATH)"
   ]
  },
  {
   "cell_type": "code",
   "execution_count": null,
   "metadata": {},
   "outputs": [],
   "source": []
  }
 ],
 "metadata": {
  "kernelspec": {
   "display_name": "Python 3",
   "language": "python",
   "name": "python3"
  },
  "language_info": {
   "codemirror_mode": {
    "name": "ipython",
    "version": 3
   },
   "file_extension": ".py",
   "mimetype": "text/x-python",
   "name": "python",
   "nbconvert_exporter": "python",
   "pygments_lexer": "ipython3",
   "version": "3.6.9"
  }
 },
 "nbformat": 4,
 "nbformat_minor": 4
}
